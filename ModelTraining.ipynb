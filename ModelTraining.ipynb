# Install Ultralytics YOLOv8
!pip install ultralytics

# Import dependencies
import torch
from ultralytics import YO#LO

# Check if GPU is available
print("GPU Available:", torch.cuda.is_available())

# Mount Google Drive (for dataset access)
from google.colab import drive
drive.mount('/content/drive')

#Model Training
model.train(data="/content/AerialRiskDataset/data.yaml", 
            epochs=20,  # Reduce epochs
            imgsz=512,  # Reduce image size
            batch=8,    # Adjust batch size
            device="cuda",  
            amp=True)   # Enable mixed precision

#Download Trained Model
from google.colab import files
files.download('runs/train/exp*/weights/best.pt')

